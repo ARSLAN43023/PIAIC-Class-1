{
 "cells": [
  {
   "cell_type": "code",
   "execution_count": 5,
   "metadata": {},
   "outputs": [
    {
     "name": "stdout",
     "output_type": "stream",
     "text": [
      "43023\n",
      "['Arslan', 'Ahmed', 43023, 'PIAIC Class 4']\n"
     ]
    }
   ],
   "source": [
    "#         0        1      2\n",
    "names=[\"Arslan\",\"Ahmed\",43023]\n",
    "#        -3       -2     -1\n",
    "print(names[-1])\n",
    "\n"
   ]
  },
  {
   "cell_type": "code",
   "execution_count": 16,
   "metadata": {},
   "outputs": [
    {
     "name": "stdout",
     "output_type": "stream",
     "text": [
      "['A', 'B', 'C', 3]\n",
      "['A', 'B', 'C', 3]\n",
      "[]\n",
      "names ['Pakistan', 'B', 'C']\n",
      "names ['Pakistan', 'B', 'C']\n"
     ]
    }
   ],
   "source": [
    "names=[]\n",
    "newnames=[]\n",
    "\n",
    "names.append('A')\n",
    "names.append('B')\n",
    "names.append('C')\n",
    "names.append(3)\n",
    "\n",
    "newnames=names.copy()\n",
    "print(newnames)\n",
    "\n",
    "print(names)\n",
    "\n",
    "names.clear()\n",
    "\n",
    "print(names)\n",
    "\n",
    "names=['A','B','C']\n",
    "names1=names  # Shallow copy\n",
    "\n",
    "names[0]=\"Pakistan\"\n",
    "\n",
    "print(\"names\",names)\n",
    "print(\"names\",names1)\n"
   ]
  },
  {
   "cell_type": "code",
   "execution_count": 17,
   "metadata": {},
   "outputs": [
    {
     "name": "stdout",
     "output_type": "stream",
     "text": [
      "names ['Pakistan', 'B', 'C']\n",
      "names ['A', 'B', 'C']\n"
     ]
    }
   ],
   "source": [
    "names=['A','B','C']\n",
    "names1=names.copy() # Deep copy\n",
    "\n",
    "\n",
    "names[0]=\"Pakistan\"\n",
    "\n",
    "print(\"names\",names)\n",
    "print(\"names\",names1)\n",
    "\n",
    "\n"
   ]
  },
  {
   "cell_type": "code",
   "execution_count": 20,
   "metadata": {},
   "outputs": [
    {
     "name": "stdout",
     "output_type": "stream",
     "text": [
      "3\n"
     ]
    }
   ],
   "source": [
    "names=[\"A\",'B',\"C\",\"A\",\"A\"]\n",
    "print(names.count(\"A\"))\n"
   ]
  },
  {
   "cell_type": "code",
   "execution_count": 27,
   "metadata": {},
   "outputs": [
    {
     "name": "stdout",
     "output_type": "stream",
     "text": [
      "[1, 2, 3, 4, 5, 6]\n",
      "[1, 2, 3]\n",
      "[4, 5, 6]\n",
      "[1, 2, 3, 4, 5, 6]\n",
      "[4, 5, 6]\n"
     ]
    }
   ],
   "source": [
    "l1=[1,2,3]\n",
    "l2=[4,5,6]\n",
    "\n",
    "print(l1+l2)  # inline operation\n",
    "\n",
    "print(l1)\n",
    "print(l2)\n",
    "\n",
    "l1.extend(l2)  # inmemory operation\n",
    "\n",
    "print(l1)\n",
    "print(l2)"
   ]
  },
  {
   "cell_type": "code",
   "execution_count": 31,
   "metadata": {},
   "outputs": [
    {
     "name": "stdout",
     "output_type": "stream",
     "text": [
      "1\n",
      "0\n",
      "3\n"
     ]
    }
   ],
   "source": [
    "l1=[\"A\",\"B\",\"C\",\"A\"]\n",
    "print(l1.index('B'))\n",
    "print(l1.index('A'))\n",
    "print(l1.index('A',1))"
   ]
  },
  {
   "cell_type": "code",
   "execution_count": 36,
   "metadata": {},
   "outputs": [
    {
     "name": "stdout",
     "output_type": "stream",
     "text": [
      "[1, 2, 3, 4, 5, 6]\n",
      "[]\n",
      "C\n",
      "['C', 'D', 'B', 'A']\n",
      "C\n"
     ]
    }
   ],
   "source": [
    "l1=[1,3,4,5,6]\n",
    "l1.insert(1,2)\n",
    "print(l1)\n",
    "\n",
    "l1=[]\n",
    "print(l1)\n",
    "l1.insert(0,\"A\")\n",
    "l1.insert(0,\"B\")\n",
    "l1.insert(0,\"C\")\n",
    "print(l1)\n",
    "\n",
    "l1.insert(1,\"D\")\n",
    "print(l1)\n",
    "print(l1[0])"
   ]
  },
  {
   "cell_type": "code",
   "execution_count": 44,
   "metadata": {},
   "outputs": [
    {
     "name": "stdout",
     "output_type": "stream",
     "text": [
      "['C']\n",
      "['C', 'D']\n",
      "['A', 'B', 'C']\n"
     ]
    }
   ],
   "source": [
    "l1=[]\n",
    "names=[\"A\",\"B\",\"C\",\"D\",\"C\"]\n",
    "l1.append(names.pop())\n",
    "print(l1)\n",
    "l1.append(names.pop())\n",
    "print(l1)\n",
    "print(names)"
   ]
  },
  {
   "cell_type": "code",
   "execution_count": 47,
   "metadata": {},
   "outputs": [
    {
     "name": "stdout",
     "output_type": "stream",
     "text": [
      "3\n"
     ]
    }
   ],
   "source": [
    "l1=[1,2,3,4]\n",
    "a=l1.pop(-2)\n",
    "print(a)"
   ]
  },
  {
   "cell_type": "code",
   "execution_count": 58,
   "metadata": {},
   "outputs": [
    {
     "name": "stdout",
     "output_type": "stream",
     "text": [
      "['d', 'C', 'B', 'A']\n",
      "C\n"
     ]
    }
   ],
   "source": [
    "l1=[\"A\",\"B\",'C',\"d\"]\n",
    "#l1.reverse()\n",
    "#print(l1)\n",
    "l1.sort(reverse=True)\n",
    "print(l1)\n",
    "a=l1.pop(l1.index(\"C\"))\n",
    "print(a)"
   ]
  },
  {
   "cell_type": "code",
   "execution_count": 52,
   "metadata": {},
   "outputs": [
    {
     "name": "stdout",
     "output_type": "stream",
     "text": [
      "['A', 'C', 'd']\n"
     ]
    }
   ],
   "source": [
    "l1=[\"A\",\"B\",'C',\"d\"]\n",
    "a=l1.remove(\"B\") # non return\n",
    "print(l1)"
   ]
  },
  {
   "cell_type": "code",
   "execution_count": 4,
   "metadata": {},
   "outputs": [
    {
     "data": {
      "text/plain": [
       "['__add__',\n",
       " '__class__',\n",
       " '__contains__',\n",
       " '__delattr__',\n",
       " '__delitem__',\n",
       " '__dir__',\n",
       " '__doc__',\n",
       " '__eq__',\n",
       " '__format__',\n",
       " '__ge__',\n",
       " '__getattribute__',\n",
       " '__getitem__',\n",
       " '__gt__',\n",
       " '__hash__',\n",
       " '__iadd__',\n",
       " '__imul__',\n",
       " '__init__',\n",
       " '__init_subclass__',\n",
       " '__iter__',\n",
       " '__le__',\n",
       " '__len__',\n",
       " '__lt__',\n",
       " '__mul__',\n",
       " '__ne__',\n",
       " '__new__',\n",
       " '__reduce__',\n",
       " '__reduce_ex__',\n",
       " '__repr__',\n",
       " '__reversed__',\n",
       " '__rmul__',\n",
       " '__setattr__',\n",
       " '__setitem__',\n",
       " '__sizeof__',\n",
       " '__str__',\n",
       " '__subclasshook__',\n",
       " 'append',\n",
       " 'clear',\n",
       " 'copy',\n",
       " 'count',\n",
       " 'extend',\n",
       " 'index',\n",
       " 'insert',\n",
       " 'pop',\n",
       " 'remove',\n",
       " 'reverse',\n",
       " 'sort']"
      ]
     },
     "execution_count": 4,
     "metadata": {},
     "output_type": "execute_result"
    }
   ],
   "source": [
    "dir(list)"
   ]
  },
  {
   "cell_type": "code",
   "execution_count": 62,
   "metadata": {},
   "outputs": [
    {
     "data": {
      "text/plain": [
       "['a', 'B', 'C', 'D', 'E', 'F']"
      ]
     },
     "execution_count": 62,
     "metadata": {},
     "output_type": "execute_result"
    }
   ],
   "source": [
    "l1=[\"a\",\"B\",\"C\"]\n",
    "l1.__add__([\"D\",\"E\",\"F\"])"
   ]
  },
  {
   "cell_type": "code",
   "execution_count": 65,
   "metadata": {},
   "outputs": [
    {
     "name": "stdout",
     "output_type": "stream",
     "text": [
      "['a', 'C']\n"
     ]
    }
   ],
   "source": [
    "l1=[\"a\",\"B\",\"C\"]\n",
    "l1.__delitem__(1)\n",
    "print(l1)"
   ]
  },
  {
   "cell_type": "code",
   "execution_count": 66,
   "metadata": {},
   "outputs": [
    {
     "data": {
      "text/plain": [
       "['__add__',\n",
       " '__class__',\n",
       " '__contains__',\n",
       " '__delattr__',\n",
       " '__dir__',\n",
       " '__doc__',\n",
       " '__eq__',\n",
       " '__format__',\n",
       " '__ge__',\n",
       " '__getattribute__',\n",
       " '__getitem__',\n",
       " '__getnewargs__',\n",
       " '__gt__',\n",
       " '__hash__',\n",
       " '__init__',\n",
       " '__init_subclass__',\n",
       " '__iter__',\n",
       " '__le__',\n",
       " '__len__',\n",
       " '__lt__',\n",
       " '__mul__',\n",
       " '__ne__',\n",
       " '__new__',\n",
       " '__reduce__',\n",
       " '__reduce_ex__',\n",
       " '__repr__',\n",
       " '__rmul__',\n",
       " '__setattr__',\n",
       " '__sizeof__',\n",
       " '__str__',\n",
       " '__subclasshook__',\n",
       " 'count',\n",
       " 'index']"
      ]
     },
     "execution_count": 66,
     "metadata": {},
     "output_type": "execute_result"
    }
   ],
   "source": [
    "dir(tuple)"
   ]
  },
  {
   "cell_type": "code",
   "execution_count": 67,
   "metadata": {},
   "outputs": [
    {
     "data": {
      "text/plain": [
       "'a'"
      ]
     },
     "execution_count": 67,
     "metadata": {},
     "output_type": "execute_result"
    }
   ],
   "source": [
    "l1=('a','b','c','D')\n",
    "l1[0]\n"
   ]
  },
  {
   "cell_type": "code",
   "execution_count": 70,
   "metadata": {},
   "outputs": [
    {
     "name": "stdout",
     "output_type": "stream",
     "text": [
      "1000\n",
      "999\n",
      "998\n",
      "997\n",
      "996\n",
      "995\n",
      "994\n",
      "993\n",
      "992\n",
      "991\n",
      "990\n"
     ]
    }
   ],
   "source": [
    "# LOOP (for,While)\n",
    "#counter\n",
    "#logic\n",
    "#increment/decrement\n",
    "\n",
    "counter=1000 # Counter\n",
    "\n",
    "while counter>=990: # Logic\n",
    "    print(counter)\n",
    "    counter-=1 # increment/decrement\n",
    "\n",
    "\n"
   ]
  },
  {
   "cell_type": "code",
   "execution_count": 71,
   "metadata": {},
   "outputs": [
    {
     "data": {
      "text/plain": [
       "[1, 2, 3, 4, 5, 6, 7, 8, 9, 10]"
      ]
     },
     "execution_count": 71,
     "metadata": {},
     "output_type": "execute_result"
    }
   ],
   "source": [
    "list(range(1,11))"
   ]
  },
  {
   "cell_type": "code",
   "execution_count": 74,
   "metadata": {},
   "outputs": [
    {
     "ename": "SyntaxError",
     "evalue": "invalid syntax (<ipython-input-74-14ac975ae0f9>, line 1)",
     "output_type": "error",
     "traceback": [
      "\u001b[1;36m  File \u001b[1;32m\"<ipython-input-74-14ac975ae0f9>\"\u001b[1;36m, line \u001b[1;32m1\u001b[0m\n\u001b[1;33m    i for i in list(range(1,11)):\u001b[0m\n\u001b[1;37m        ^\u001b[0m\n\u001b[1;31mSyntaxError\u001b[0m\u001b[1;31m:\u001b[0m invalid syntax\n"
     ]
    }
   ],
   "source": [
    "for i in list(range(1,11)):\n",
    "    print(\"Pakistan\"+ str(i))"
   ]
  },
  {
   "cell_type": "code",
   "execution_count": null,
   "metadata": {},
   "outputs": [],
   "source": [
    "\n",
    "[\"Pakistan\"+ str(i)+ )"
   ]
  },
  {
   "cell_type": "code",
   "execution_count": 2,
   "metadata": {},
   "outputs": [
    {
     "name": "stdout",
     "output_type": "stream",
     "text": [
      "Enter a number3\n",
      "Enter the no whose table is required5\n",
      "5 * 1 = 5\n",
      "5 * 2 = 10\n",
      "5 * 3 = 15\n",
      "5 * 4 = 20\n",
      "5 * 5 = 25\n",
      "5 * 6 = 30\n",
      "5 * 7 = 35\n",
      "5 * 8 = 40\n",
      "5 * 9 = 45\n",
      "5 * 10 = 50\n",
      "Enter the no whose table is required8\n",
      "8 * 1 = 8\n",
      "8 * 2 = 16\n",
      "8 * 3 = 24\n",
      "8 * 4 = 32\n",
      "8 * 5 = 40\n",
      "8 * 6 = 48\n",
      "8 * 7 = 56\n",
      "8 * 8 = 64\n",
      "8 * 9 = 72\n",
      "8 * 10 = 80\n",
      "Enter the no whose table is required9\n",
      "9 * 1 = 9\n",
      "9 * 2 = 18\n",
      "9 * 3 = 27\n",
      "9 * 4 = 36\n",
      "9 * 5 = 45\n",
      "9 * 6 = 54\n",
      "9 * 7 = 63\n",
      "9 * 8 = 72\n",
      "9 * 9 = 81\n",
      "9 * 10 = 90\n",
      "Enter the no whose table is required10\n",
      "10 * 1 = 10\n",
      "10 * 2 = 20\n",
      "10 * 3 = 30\n",
      "10 * 4 = 40\n",
      "10 * 5 = 50\n",
      "10 * 6 = 60\n",
      "10 * 7 = 70\n",
      "10 * 8 = 80\n",
      "10 * 9 = 90\n",
      "10 * 10 = 100\n"
     ]
    }
   ],
   "source": [
    "user_input=int(input(\"Enter a number\"))\n",
    "for i in range(user_input+1):\n",
    "    table=int(input(\"Enter the no whose table is required\"))\n",
    "    for i in range(1,11):\n",
    "        print(table ,\"*\",i,\"=\",table*i)"
   ]
  },
  {
   "cell_type": "code",
   "execution_count": null,
   "metadata": {},
   "outputs": [],
   "source": [
    "[str(\"2\") + \"*\" + str(i) +\"=\"+str(table)*str(i) for i in range(1,11)]"
   ]
  },
  {
   "cell_type": "code",
   "execution_count": 8,
   "metadata": {},
   "outputs": [
    {
     "name": "stdout",
     "output_type": "stream",
     "text": [
      "Enter a number5\n",
      "1 X 1= 1\n",
      "1 X 2= 2\n",
      "1 X 3= 3\n",
      "1 X 4= 4\n",
      "1 X 5= 5\n",
      "1 X 6= 6\n",
      "1 X 7= 7\n",
      "1 X 8= 8\n",
      "1 X 9= 9\n",
      "1 X 10= 10\n",
      "2 X 1= 2\n",
      "2 X 2= 4\n",
      "2 X 3= 6\n",
      "2 X 4= 8\n",
      "2 X 5= 10\n",
      "2 X 6= 12\n",
      "2 X 7= 14\n",
      "2 X 8= 16\n",
      "2 X 9= 18\n",
      "2 X 10= 20\n",
      "3 X 1= 3\n",
      "3 X 2= 6\n",
      "3 X 3= 9\n",
      "3 X 4= 12\n",
      "3 X 5= 15\n",
      "3 X 6= 18\n",
      "3 X 7= 21\n",
      "3 X 8= 24\n",
      "3 X 9= 27\n",
      "3 X 10= 30\n",
      "4 X 1= 4\n",
      "4 X 2= 8\n",
      "4 X 3= 12\n",
      "4 X 4= 16\n",
      "4 X 5= 20\n",
      "4 X 6= 24\n",
      "4 X 7= 28\n",
      "4 X 8= 32\n",
      "4 X 9= 36\n",
      "4 X 10= 40\n",
      "5 X 1= 5\n",
      "5 X 2= 10\n",
      "5 X 3= 15\n",
      "5 X 4= 20\n",
      "5 X 5= 25\n",
      "5 X 6= 30\n",
      "5 X 7= 35\n",
      "5 X 8= 40\n",
      "5 X 9= 45\n",
      "5 X 10= 50\n"
     ]
    }
   ],
   "source": [
    "user_input=int(input(\"Enter a number\"))\n",
    "\n",
    "for t in range(1,user_input+1):\n",
    "    for n in range(1,11):\n",
    "        print(f'{t} X {n}= {t*n}')"
   ]
  },
  {
   "cell_type": "code",
   "execution_count": 20,
   "metadata": {},
   "outputs": [
    {
     "name": "stdout",
     "output_type": "stream",
     "text": [
      "Enter a number: 7\n",
      "5X1=5\t6X1=6\t7X1=7\t\n",
      "5X2=10\t6X2=12\t7X2=14\t\n",
      "5X3=15\t6X3=18\t7X3=21\t\n",
      "5X4=20\t6X4=24\t7X4=28\t\n",
      "5X5=25\t6X5=30\t7X5=35\t\n",
      "5X6=30\t6X6=36\t7X6=42\t\n",
      "5X7=35\t6X7=42\t7X7=49\t\n",
      "5X8=40\t6X8=48\t7X8=56\t\n",
      "5X9=45\t6X9=54\t7X9=63\t\n",
      "5X10=50\t6X10=60\t7X10=70\t\n",
      "5X11=55\t6X11=66\t7X11=77\t\n",
      "5X12=60\t6X12=72\t7X12=84\t\n",
      "5X13=65\t6X13=78\t7X13=91\t\n",
      "5X14=70\t6X14=84\t7X14=98\t\n",
      "5X15=75\t6X15=90\t7X15=105\t\n",
      "5X16=80\t6X16=96\t7X16=112\t\n",
      "5X17=85\t6X17=102\t7X17=119\t\n",
      "5X18=90\t6X18=108\t7X18=126\t\n",
      "5X19=95\t6X19=114\t7X19=133\t\n",
      "5X20=100\t6X20=120\t7X20=140\t\n"
     ]
    }
   ],
   "source": [
    "user=int(input(\"Enter a number: \"))\n",
    "for r in range(1,21):\n",
    "    for t in range(5,user+1):\n",
    "        print(f'{t}X{r}={r*t}',end='\\t')\n",
    "    print()"
   ]
  },
  {
   "cell_type": "code",
   "execution_count": null,
   "metadata": {},
   "outputs": [],
   "source": [
    "# Dictionary methods and attributes"
   ]
  },
  {
   "cell_type": "code",
   "execution_count": null,
   "metadata": {},
   "outputs": [],
   "source": []
  }
 ],
 "metadata": {
  "kernelspec": {
   "display_name": "Python 3",
   "language": "python",
   "name": "python3"
  },
  "language_info": {
   "codemirror_mode": {
    "name": "ipython",
    "version": 3
   },
   "file_extension": ".py",
   "mimetype": "text/x-python",
   "name": "python",
   "nbconvert_exporter": "python",
   "pygments_lexer": "ipython3",
   "version": "3.7.4"
  }
 },
 "nbformat": 4,
 "nbformat_minor": 2
}
